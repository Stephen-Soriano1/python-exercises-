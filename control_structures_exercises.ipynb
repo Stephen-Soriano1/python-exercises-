{
 "cells": [
  {
   "cell_type": "markdown",
   "id": "dc12e7e1",
   "metadata": {},
   "source": [
    "1.Conditional Basics\n",
    "\n",
    "Prompt the user for a day of the week, print out whether the day is Monday or not\n",
    "\n",
    "Prompt the user for a day of the week, print out whether the day is a weekday or a weekend\n",
    "\n",
    "Calculate a weekly paycheck, accounting for overtime pay. Create variables and make up values for:\n",
    "\n",
    "The number of hours worked in one week\n",
    "The hourly rate\n",
    "For calculating pay:\n",
    "\n",
    "For working 40 hours or less, each hour is paid at the hourly rate\n",
    "For working more than 40 hours\n",
    "\n",
    "the first 40 hours are paid at the hourly rate\n",
    "\n",
    "each hour after 40 is paid at time and a half (hourly rate * 1.5)"
   ]
  },
  {
   "cell_type": "code",
   "execution_count": null,
   "id": "22f89204",
   "metadata": {},
   "outputs": [],
   "source": [
    "#teacher way "
   ]
  },
  {
   "cell_type": "code",
   "execution_count": null,
   "id": "39f9bba9",
   "metadata": {},
   "outputs": [],
   "source": []
  },
  {
   "cell_type": "code",
   "execution_count": null,
   "id": "8a3953c5",
   "metadata": {},
   "outputs": [
    {
     "name": "stdout",
     "output_type": "stream",
     "text": [
      "Enter a day of the week: Monday\n",
      "It's Monday!\n"
     ]
    }
   ],
   "source": [
    "user_day = input(\"Enter a day of the week: \").capitalize()\n",
    "if user_day == \"Monday\":\n",
    "    print(\"It's Monday!\")\n",
    "else:\n",
    "    print(f\"It's not Monday. It's {user_day}.\")"
   ]
  },
  {
   "cell_type": "code",
   "execution_count": null,
   "id": "e7a21356",
   "metadata": {},
   "outputs": [
    {
     "name": "stdout",
     "output_type": "stream",
     "text": [
      "Monday is a weekday.\n"
     ]
    }
   ],
   "source": [
    "if user_day in [\"Monday\", \"Tuesday\", \"Wednesday\", \"Thursday\", \"Friday\"]:\n",
    "    print(f\"{user_day} is a weekday.\")\n",
    "else:\n",
    "    print(f\"{user_day} is a weekend day.\")"
   ]
  },
  {
   "cell_type": "code",
   "execution_count": 1,
   "id": "82a592dd",
   "metadata": {},
   "outputs": [
    {
     "name": "stdout",
     "output_type": "stream",
     "text": [
      "3825.0\n"
     ]
    }
   ],
   "source": [
    "hrs_worked = 70\n",
    "hourly_pay = 45.00\n",
    "\n",
    "\n",
    "if hrs_worked > 40:\n",
    "    ot_hrs = hrs_worked - 40 # gets overtime hrs\n",
    "    ot_pay = ot_hrs * hourly_pay * 1.5 # gets overtime pay\n",
    "    reg_pay = 40 * hourly_pay\n",
    "    pay = ot_pay + reg_pay\n",
    "    \n",
    "else:\n",
    "    pay = hrs_worked * reg_pay\n",
    "\n",
    "print(pay)"
   ]
  },
  {
   "cell_type": "markdown",
   "id": "f31c03a8",
   "metadata": {},
   "source": [
    "Create an integer variable i with a value of 5. Create a while loop that runs so long as i is less than or equal to 15. Each loop iteration, output the current value of i, then increment i by one."
   ]
  },
  {
   "cell_type": "code",
   "execution_count": null,
   "id": "7ca2c7f1",
   "metadata": {},
   "outputs": [
    {
     "name": "stdout",
     "output_type": "stream",
     "text": [
      "5\n",
      "6\n",
      "7\n",
      "8\n",
      "9\n",
      "10\n",
      "11\n",
      "12\n",
      "13\n",
      "14\n",
      "15\n"
     ]
    }
   ],
   "source": [
    "i = 5 \n",
    "while i <= 15:\n",
    "    print(i)\n",
    "    i +=1"
   ]
  },
  {
   "cell_type": "markdown",
   "id": "7a48ecff",
   "metadata": {},
   "source": [
    "Create a while loop that will count by 2's starting with 0 and ending at 100. Follow each number with a new line.\n"
   ]
  },
  {
   "cell_type": "code",
   "execution_count": null,
   "id": "7c0c31f0",
   "metadata": {},
   "outputs": [
    {
     "name": "stdout",
     "output_type": "stream",
     "text": [
      "0\n",
      "2\n",
      "4\n",
      "6\n",
      "8\n",
      "10\n",
      "12\n",
      "14\n",
      "16\n",
      "18\n",
      "20\n",
      "22\n",
      "24\n",
      "26\n",
      "28\n",
      "30\n",
      "32\n",
      "34\n",
      "36\n",
      "38\n",
      "40\n",
      "42\n",
      "44\n",
      "46\n",
      "48\n",
      "50\n",
      "52\n",
      "54\n",
      "56\n",
      "58\n",
      "60\n",
      "62\n",
      "64\n",
      "66\n",
      "68\n",
      "70\n",
      "72\n",
      "74\n",
      "76\n",
      "78\n",
      "80\n",
      "82\n",
      "84\n",
      "86\n",
      "88\n",
      "90\n",
      "92\n",
      "94\n",
      "96\n",
      "98\n",
      "100\n"
     ]
    }
   ],
   "source": [
    "i = 0\n",
    "while i <= 100:\n",
    "    print(i)\n",
    "    i +=2"
   ]
  },
  {
   "cell_type": "markdown",
   "id": "fc7fb5a5",
   "metadata": {},
   "source": [
    "Create a while loop that starts at 2, and displays the number squared on each line while the number is less than 1,000,000. Output should equal:"
   ]
  },
  {
   "cell_type": "code",
   "execution_count": 1,
   "id": "6cae37da",
   "metadata": {},
   "outputs": [
    {
     "name": "stdout",
     "output_type": "stream",
     "text": [
      "2\n",
      "4\n",
      "16\n",
      "256\n",
      "65536\n"
     ]
    }
   ],
   "source": [
    "i = 2 \n",
    "while i < 1000000:\n",
    "    print(i)\n",
    "    i = i*i\n",
    "    "
   ]
  },
  {
   "cell_type": "markdown",
   "id": "87f1df49",
   "metadata": {},
   "source": [
    "Write a while loop that uses print to create the output shown below.\n",
    "\n",
    "\n"
   ]
  },
  {
   "cell_type": "code",
   "execution_count": 5,
   "id": "fd8d4bd7",
   "metadata": {},
   "outputs": [],
   "source": [
    "i = 100\n",
    "while i < 100:\n",
    "    print(i)\n",
    "    i -=5"
   ]
  },
  {
   "cell_type": "markdown",
   "id": "b841c19a",
   "metadata": {},
   "source": [
    "Write some code using a for loop that prompts the user for a number, then shows a multiplication table up through 10 for that number."
   ]
  },
  {
   "cell_type": "code",
   "execution_count": 1,
   "id": "312026b8",
   "metadata": {
    "scrolled": true
   },
   "outputs": [
    {
     "name": "stdout",
     "output_type": "stream",
     "text": [
      "7 x 1 = 7\n",
      "7 x 2 = 14\n",
      "7 x 3 = 21\n",
      "7 x 4 = 28\n",
      "7 x 5 = 35\n",
      "7 x 6 = 42\n",
      "7 x 7 = 49\n",
      "7 x 8 = 56\n",
      "7 x 9 = 63\n",
      "7 x 10 = 70\n"
     ]
    }
   ],
   "source": [
    "num = 7\n",
    "\n",
    "for i in range(1, 11):\n",
    "    print(num, 'x', i, '=', num*i)"
   ]
  },
  {
   "cell_type": "code",
   "execution_count": 57,
   "id": "66bf9d8d",
   "metadata": {},
   "outputs": [
    {
     "name": "stdout",
     "output_type": "stream",
     "text": [
      "1\n",
      "22\n",
      "333\n",
      "4444\n",
      "55555\n",
      "666666\n",
      "7777777\n",
      "88888888\n",
      "999999999\n"
     ]
    }
   ],
   "source": [
    "for i in range(1,10):\n",
    "    for s in range(i):\n",
    "        print(i,end='')\n",
    "    print()\n",
    " \n",
    "\n",
    "    "
   ]
  },
  {
   "cell_type": "code",
   "execution_count": 12,
   "id": "389c135d",
   "metadata": {},
   "outputs": [
    {
     "name": "stdout",
     "output_type": "stream",
     "text": [
      "Here is an odd number: 0\n",
      "Here is an odd number: 2\n",
      "Here is an odd number: 4\n",
      "Here is an odd number: 6\n",
      "Here is an odd number: 8\n",
      "Here is an odd number: 10\n",
      "Here is an odd number: 12\n",
      "Here is an odd number: 14\n",
      "Here is an odd number: 16\n",
      "Here is an odd number: 18\n",
      "Here is an odd number: 20\n",
      "Here is an odd number: 22\n",
      "Here is an odd number: 24\n",
      "Here is an odd number: 26\n",
      "skip a number: 27\n",
      "Here is an odd number: 28\n",
      "Here is an odd number: 30\n",
      "Here is an odd number: 32\n",
      "Here is an odd number: 34\n",
      "Here is an odd number: 36\n",
      "Here is an odd number: 38\n",
      "Here is an odd number: 40\n",
      "Here is an odd number: 42\n",
      "Here is an odd number: 44\n",
      "Here is an odd number: 46\n",
      "Here is an odd number: 48\n"
     ]
    }
   ],
   "source": [
    "for n in range (50):\n",
    "    if n % 2 == 0:\n",
    "        print(f'Here is an odd number: {n}')\n",
    "    if n == 27:\n",
    "        print(f'skip a number: {27}') \n",
    "        continue\n",
    "\n",
    "        "
   ]
  },
  {
   "cell_type": "code",
   "execution_count": null,
   "id": "c569bbe1",
   "metadata": {},
   "outputs": [],
   "source": []
  },
  {
   "cell_type": "markdown",
   "id": "4189b784",
   "metadata": {},
   "source": [
    "fizzbuzz"
   ]
  },
  {
   "cell_type": "code",
   "execution_count": 2,
   "id": "b679cb55",
   "metadata": {},
   "outputs": [
    {
     "name": "stdout",
     "output_type": "stream",
     "text": [
      "1\n",
      "2\n",
      "Fizz\n",
      "4\n",
      "Buzz\n",
      "Fizz\n",
      "7\n",
      "8\n",
      "Fizz\n",
      "Buzz\n",
      "11\n",
      "Fizz\n",
      "13\n",
      "14\n",
      "FizzBuzz\n",
      "16\n",
      "17\n",
      "Fizz\n",
      "19\n",
      "Buzz\n",
      "Fizz\n",
      "22\n",
      "23\n",
      "Fizz\n",
      "Buzz\n",
      "26\n",
      "Fizz\n",
      "28\n",
      "29\n",
      "FizzBuzz\n",
      "31\n",
      "32\n",
      "Fizz\n",
      "34\n",
      "Buzz\n",
      "Fizz\n",
      "37\n",
      "38\n",
      "Fizz\n",
      "Buzz\n",
      "41\n",
      "Fizz\n",
      "43\n",
      "44\n",
      "FizzBuzz\n",
      "46\n",
      "47\n",
      "Fizz\n",
      "49\n",
      "Buzz\n",
      "Fizz\n",
      "52\n",
      "53\n",
      "Fizz\n",
      "Buzz\n",
      "56\n",
      "Fizz\n",
      "58\n",
      "59\n",
      "FizzBuzz\n",
      "61\n",
      "62\n",
      "Fizz\n",
      "64\n",
      "Buzz\n",
      "Fizz\n",
      "67\n",
      "68\n",
      "Fizz\n",
      "Buzz\n",
      "71\n",
      "Fizz\n",
      "73\n",
      "74\n",
      "FizzBuzz\n",
      "76\n",
      "77\n",
      "Fizz\n",
      "79\n",
      "Buzz\n",
      "Fizz\n",
      "82\n",
      "83\n",
      "Fizz\n",
      "Buzz\n",
      "86\n",
      "Fizz\n",
      "88\n",
      "89\n",
      "FizzBuzz\n",
      "91\n",
      "92\n",
      "Fizz\n",
      "94\n",
      "Buzz\n",
      "Fizz\n",
      "97\n",
      "98\n",
      "Fizz\n",
      "Buzz\n"
     ]
    }
   ],
   "source": [
    "for num in range(1,101):\n",
    "    string = \"\"\n",
    "    if num % 3 == 0:\n",
    "        string = string + \"Fizz\"\n",
    "    if num % 5 == 0:\n",
    "        string = string + \"Buzz\"\n",
    "    if num % 5 != 0 and num % 3 != 0:\n",
    "        string = string + str(num)\n",
    "    print(string)"
   ]
  },
  {
   "cell_type": "code",
   "execution_count": 92,
   "id": "93581367",
   "metadata": {},
   "outputs": [
    {
     "name": "stdout",
     "output_type": "stream",
     "text": [
      "Enter the number to print the tables for:3\n",
      "3 ^ 2 = 3\n",
      "3 ^ 3 = 9\n",
      "3 ^ 4 = 27\n",
      "3 ^ 5 = 81\n",
      "3 ^ 6 = 243\n",
      "3 ^ 7 = 729\n",
      "3 ^ 8 = 2187\n",
      "3 ^ 9 = 6561\n",
      "3 ^ 10 = 19683\n",
      "3 ^ 11 = 59049\n",
      "Do you want to continue (yes/no)? no\n"
     ]
    },
    {
     "ename": "SyntaxError",
     "evalue": "'break' outside loop (2265671042.py, line 6)",
     "output_type": "error",
     "traceback": [
      "\u001b[0;36m  Cell \u001b[0;32mIn[92], line 6\u001b[0;36m\u001b[0m\n\u001b[0;31m    break\u001b[0m\n\u001b[0m    ^\u001b[0m\n\u001b[0;31mSyntaxError\u001b[0m\u001b[0;31m:\u001b[0m 'break' outside loop\n"
     ]
    }
   ],
   "source": [
    "n=int(input(\"Enter the number to print the tables for:\"))\n",
    "for i in range(1,11):\n",
    "    print(n,\"^\",i+1,\"=\",n**i)\n",
    "input = input(\"Do you want to continue (yes/no)? \").lower()\n",
    "if user_input != \"yes\":\n",
    "        break"
   ]
  },
  {
   "cell_type": "code",
   "execution_count": null,
   "id": "03fe39fe",
   "metadata": {},
   "outputs": [],
   "source": [
    "cont = 'yes'\n",
    "\n",
    "while cont == 'yes':\n",
    "    numb = int(input('Enter an integer: '))\n",
    "\n",
    "    print(f'number | squared | cubed')\n",
    "    print(f'-------|---------|-----')\n",
    "\n",
    "    for i in range(1,numb+1):\n",
    "           \n",
    "        print(f'{i:<7}|{i**2}        |{i**3} ')\n",
    "        \n",
    "    cont = input('Would you like to continue (yes/no)?')"
   ]
  },
  {
   "cell_type": "markdown",
   "id": "dbcc6ddd",
   "metadata": {},
   "source": [
    "Convert given number grades into letter grades.\n",
    "\n",
    "Prompt the user for a numerical grade from 0 to 100\n",
    "Display the corresponding letter grade\n",
    "Prompt the user to continue\n",
    "Assume that the user will enter valid integers for the grades\n",
    "The application should only continue if the user agrees to\n",
    "Grade Ranges:\n",
    "\n",
    "A : 100 - 88\n",
    "B : 87 - 80\n",
    "C : 79 - 67\n",
    "D : 66 - 60\n",
    "F : 59 - 0"
   ]
  },
  {
   "cell_type": "code",
   "execution_count": null,
   "id": "404707c0",
   "metadata": {},
   "outputs": [],
   "source": [
    "def numerical_to_letter_grade(grade):\n",
    "    if 88 <= grade <= 100:\n",
    "        return \"A\"\n",
    "    elif 80 <= grade <= 87:\n",
    "        return \"B\"\n",
    "    elif 67 <= grade <= 79:\n",
    "        return \"C\"\n",
    "    elif 60 <= grade <= 66:\n",
    "        return \"D\"\n",
    "    elif 0 <= grade <= 59:\n",
    "        return \"F\"\n",
    "\n",
    "while True:\n",
    "    try:\n",
    "        numerical_grade = int(input(\"Enter a numerical grade (0-100): \"))\n",
    "        if 0 <= numerical_grade <= 100:\n",
    "            letter_grade = numerical_to_letter_grade(numerical_grade)\n",
    "            print(f\"The corresponding letter grade is: {letter_grade}\")\n",
    "        else:\n",
    "            print(\"Please enter a valid numerical grade between 0 and 100.\")\n",
    "    except ValueError:\n",
    "        print(\"Invalid input. Please enter a valid numerical grade.\")\n",
    "    \n",
    "    user_input = input(\"Do you want to continue (yes/no)? \").lower()\n",
    "    if user_input != \"yes\":\n",
    "        break"
   ]
  },
  {
   "cell_type": "code",
   "execution_count": null,
   "id": "6aea2aa0",
   "metadata": {},
   "outputs": [],
   "source": []
  },
  {
   "cell_type": "markdown",
   "id": "e776e933",
   "metadata": {},
   "source": [
    "Create a list of dictionaries where each dictionary represents a book that you have read. Each dictionary in the list should have the keys title, author, and genre. Loop through the list and print out information about each book.\n",
    "\n",
    "Prompt the user to enter a genre, then loop through your books list and print out the titles of all the books in that genre."
   ]
  },
  {
   "cell_type": "code",
   "execution_count": null,
   "id": "6401a27d",
   "metadata": {},
   "outputs": [],
   "source": [
    "books = [\n",
    "    #{key:value, key:value, key:value}\n",
    "    {'title':'parable of the sower', 'author':'octavia butler', 'genre':'sci fi'},\n",
    "    {'title':'think and grow rich', 'author':'napoleon hill', 'genre':'self help'},\n",
    "    {'title':'1984','author':'george orwell','genre':'fiction'},\n",
    "    {'title':'Don Quixote', 'author':'Miguel de Cervantes', 'genre':'comedy'},\n",
    "    {'title':'Gone with the Wind', 'author':'Margaret Mitchell', 'genre':'romance'},\n",
    "    {'title': 'Farenheit 451', 'author':'Ray Bradbury', 'genre': 'sci fi'},\n",
    "    {'title': 'The Giver', 'author': 'Lois Lowry', 'genre': 'sci fi'}\n",
    "    "
   ]
  },
  {
   "cell_type": "code",
   "execution_count": null,
   "id": "04bfbb09",
   "metadata": {},
   "outputs": [],
   "source": [
    "for book in books:\n",
    "    print(book)"
   ]
  },
  {
   "cell_type": "code",
   "execution_count": null,
   "id": "c1b639c0",
   "metadata": {},
   "outputs": [],
   "source": [
    "books['title']"
   ]
  },
  {
   "cell_type": "code",
   "execution_count": null,
   "id": "626a151e",
   "metadata": {},
   "outputs": [],
   "source": [
    "books[7]"
   ]
  },
  {
   "cell_type": "code",
   "execution_count": null,
   "id": "86c4cb5c",
   "metadata": {},
   "outputs": [],
   "source": [
    "books[6]"
   ]
  },
  {
   "cell_type": "code",
   "execution_count": null,
   "id": "e7407b52",
   "metadata": {
    "scrolled": true
   },
   "outputs": [],
   "source": [
    "genre_input = input('Enter a genre: \\n\\n')\n",
    "\n",
    "for book in books:\n",
    "    # print(book) #print out each book aka each dictionary separately\n",
    "    # print(book['genre']) #have to call the key to get back its value\n",
    "    if genre_input.lower() == book['genre']:\n",
    "        print(book['title'])\n",
    "    else:\n",
    "        pass\n",
    "        \n",
    "        \n",
    "       "
   ]
  },
  {
   "cell_type": "code",
   "execution_count": null,
   "id": "3e720ecc",
   "metadata": {},
   "outputs": [],
   "source": [
    "books"
   ]
  },
  {
   "cell_type": "code",
   "execution_count": null,
   "id": "8f950ee5",
   "metadata": {},
   "outputs": [],
   "source": []
  }
 ],
 "metadata": {
  "kernelspec": {
   "display_name": "Python 3 (ipykernel)",
   "language": "python",
   "name": "python3"
  },
  "language_info": {
   "codemirror_mode": {
    "name": "ipython",
    "version": 3
   },
   "file_extension": ".py",
   "mimetype": "text/x-python",
   "name": "python",
   "nbconvert_exporter": "python",
   "pygments_lexer": "ipython3",
   "version": "3.11.5"
  }
 },
 "nbformat": 4,
 "nbformat_minor": 5
}
