{
 "cells": [
  {
   "cell_type": "markdown",
   "id": "f1069d15",
   "metadata": {},
   "source": [
    "question 1."
   ]
  },
  {
   "cell_type": "code",
   "execution_count": 1,
   "id": "d9665bc4",
   "metadata": {},
   "outputs": [
    {
     "data": {
      "text/plain": [
       "float"
      ]
     },
     "execution_count": 1,
     "metadata": {},
     "output_type": "execute_result"
    }
   ],
   "source": [
    "type(99.9)"
   ]
  },
  {
   "cell_type": "code",
   "execution_count": 9,
   "id": "219e46f3",
   "metadata": {},
   "outputs": [
    {
     "data": {
      "text/plain": [
       "str"
      ]
     },
     "execution_count": 9,
     "metadata": {},
     "output_type": "execute_result"
    }
   ],
   "source": [
    "type('False') #having '' make it a string even with it being true or false"
   ]
  },
  {
   "cell_type": "code",
   "execution_count": 13,
   "id": "b902c30b",
   "metadata": {},
   "outputs": [
    {
     "data": {
      "text/plain": [
       "bool"
      ]
     },
     "execution_count": 13,
     "metadata": {},
     "output_type": "execute_result"
    }
   ],
   "source": [
    "type(False)"
   ]
  },
  {
   "cell_type": "code",
   "execution_count": 8,
   "id": "83152ee8",
   "metadata": {},
   "outputs": [
    {
     "data": {
      "text/plain": [
       "str"
      ]
     },
     "execution_count": 8,
     "metadata": {},
     "output_type": "execute_result"
    }
   ],
   "source": [
    "type('0')"
   ]
  },
  {
   "cell_type": "code",
   "execution_count": 11,
   "id": "3125f5e5",
   "metadata": {},
   "outputs": [
    {
     "data": {
      "text/plain": [
       "int"
      ]
     },
     "execution_count": 11,
     "metadata": {},
     "output_type": "execute_result"
    }
   ],
   "source": [
    "type(0)"
   ]
  },
  {
   "cell_type": "code",
   "execution_count": 10,
   "id": "628f638d",
   "metadata": {},
   "outputs": [
    {
     "data": {
      "text/plain": [
       "str"
      ]
     },
     "execution_count": 10,
     "metadata": {},
     "output_type": "execute_result"
    }
   ],
   "source": [
    "type('True')"
   ]
  },
  {
   "cell_type": "code",
   "execution_count": 12,
   "id": "c0f28a4b",
   "metadata": {},
   "outputs": [
    {
     "data": {
      "text/plain": [
       "bool"
      ]
     },
     "execution_count": 12,
     "metadata": {},
     "output_type": "execute_result"
    }
   ],
   "source": [
    "type(True)"
   ]
  },
  {
   "cell_type": "code",
   "execution_count": null,
   "id": "dfa3a515",
   "metadata": {},
   "outputs": [],
   "source": [
    "type"
   ]
  },
  {
   "cell_type": "code",
   "execution_count": 16,
   "id": "7880256b",
   "metadata": {},
   "outputs": [
    {
     "data": {
      "text/plain": [
       "list"
      ]
     },
     "execution_count": 16,
     "metadata": {},
     "output_type": "execute_result"
    }
   ],
   "source": [
    "type([{}])"
   ]
  },
  {
   "cell_type": "code",
   "execution_count": 17,
   "id": "95ac3978",
   "metadata": {},
   "outputs": [
    {
     "data": {
      "text/plain": [
       "dict"
      ]
     },
     "execution_count": 17,
     "metadata": {},
     "output_type": "execute_result"
    }
   ],
   "source": [
    "type({'a': []}\n",
    ")"
   ]
  },
  {
   "cell_type": "markdown",
   "id": "530c2ff8",
   "metadata": {},
   "source": [
    "question 2. What data type would best represent the following?"
   ]
  },
  {
   "cell_type": "markdown",
   "id": "592c5a75",
   "metadata": {},
   "source": [
    "#A term or phrase typed into a search box - \n",
    ">str"
   ]
  },
  {
   "cell_type": "markdown",
   "id": "b3a76550",
   "metadata": {},
   "source": [
    "#Whether or not a user is logged in - booleans"
   ]
  },
  {
   "cell_type": "markdown",
   "id": "a64034f7",
   "metadata": {},
   "source": [
    "#A discount amount to apply to a user's shopping cart - float"
   ]
  },
  {
   "cell_type": "markdown",
   "id": "1398cd5b",
   "metadata": {},
   "source": [
    "#Whether or not a coupon code is valid - bloleans"
   ]
  },
  {
   "cell_type": "markdown",
   "id": "1e746718",
   "metadata": {},
   "source": [
    "#An email address typed into a registration form - str"
   ]
  },
  {
   "cell_type": "markdown",
   "id": "5983ea2e",
   "metadata": {},
   "source": [
    "#The price of a product - float"
   ]
  },
  {
   "cell_type": "markdown",
   "id": "b5e7cdcd",
   "metadata": {},
   "source": [
    "#The email addresses collected from a registration form - list"
   ]
  },
  {
   "cell_type": "markdown",
   "id": "b95f49f1",
   "metadata": {},
   "source": [
    "#Information about applicants to Codeup's data science program -dict "
   ]
  },
  {
   "cell_type": "code",
   "execution_count": null,
   "id": "58b20b81",
   "metadata": {},
   "outputs": [],
   "source": []
  },
  {
   "cell_type": "markdown",
   "id": "ed7a6ff7",
   "metadata": {},
   "source": [
    "3.For each of the following code blocks:\n",
    "\n",
    "Read the expression and predict the evaluated results\n",
    "\n",
    "Execute the expression in a Python REPL."
   ]
  },
  {
   "cell_type": "code",
   "execution_count": 23,
   "id": "dff22371",
   "metadata": {},
   "outputs": [
    {
     "ename": "TypeError",
     "evalue": "can only concatenate str (not \"int\") to str",
     "output_type": "error",
     "traceback": [
      "\u001b[0;31m---------------------------------------------------------------------------\u001b[0m",
      "\u001b[0;31mTypeError\u001b[0m                                 Traceback (most recent call last)",
      "Cell \u001b[0;32mIn[23], line 1\u001b[0m\n\u001b[0;32m----> 1\u001b[0m \u001b[38;5;124m'\u001b[39m\u001b[38;5;124m1\u001b[39m\u001b[38;5;124m'\u001b[39m \u001b[38;5;241m+\u001b[39m \u001b[38;5;241m2\u001b[39m\n",
      "\u001b[0;31mTypeError\u001b[0m: can only concatenate str (not \"int\") to str"
     ]
    }
   ],
   "source": [
    "'1' + 2 # will error out because it can not concatenate str only int "
   ]
  },
  {
   "cell_type": "code",
   "execution_count": 38,
   "id": "c231b983",
   "metadata": {},
   "outputs": [
    {
     "data": {
      "text/plain": [
       "2"
      ]
     },
     "execution_count": 38,
     "metadata": {},
     "output_type": "execute_result"
    }
   ],
   "source": [
    "6 % 4 # Divides left hand operand by right hand operand and returns remainder"
   ]
  },
  {
   "cell_type": "code",
   "execution_count": 26,
   "id": "38945842",
   "metadata": {},
   "outputs": [
    {
     "data": {
      "text/plain": [
       "int"
      ]
     },
     "execution_count": 26,
     "metadata": {},
     "output_type": "execute_result"
    }
   ],
   "source": [
    "type(6 % 4) #when put type first it going to tell you the data type"
   ]
  },
  {
   "cell_type": "code",
   "execution_count": 27,
   "id": "9ecc6c00",
   "metadata": {},
   "outputs": [
    {
     "data": {
      "text/plain": [
       "type"
      ]
     },
     "execution_count": 27,
     "metadata": {},
     "output_type": "execute_result"
    }
   ],
   "source": [
    "type(type(6 % 4)) # will come as type the word "
   ]
  },
  {
   "cell_type": "code",
   "execution_count": 28,
   "id": "e015ece3",
   "metadata": {},
   "outputs": [
    {
     "ename": "SyntaxError",
     "evalue": "invalid syntax (1574493416.py, line 1)",
     "output_type": "error",
     "traceback": [
      "\u001b[0;36m  Cell \u001b[0;32mIn[28], line 1\u001b[0;36m\u001b[0m\n\u001b[0;31m    '3 + 4 is ' 3 + 4\u001b[0m\n\u001b[0m                ^\u001b[0m\n\u001b[0;31mSyntaxError\u001b[0m\u001b[0;31m:\u001b[0m invalid syntax\n"
     ]
    }
   ],
   "source": [
    "'3 + 4 is ' 3 + 4 # has invalid syntax for t\n",
    "# his code to work would need to get rid of quotation"
   ]
  },
  {
   "cell_type": "code",
   "execution_count": 30,
   "id": "77099ef7",
   "metadata": {},
   "outputs": [
    {
     "data": {
      "text/plain": [
       "False"
      ]
     },
     "execution_count": 30,
     "metadata": {},
     "output_type": "execute_result"
    }
   ],
   "source": [
    "0 < 0  # it comes out as False"
   ]
  },
  {
   "cell_type": "code",
   "execution_count": 32,
   "id": "0109b593",
   "metadata": {},
   "outputs": [
    {
     "data": {
      "text/plain": [
       "False"
      ]
     },
     "execution_count": 32,
     "metadata": {},
     "output_type": "execute_result"
    }
   ],
   "source": [
    "True == 'True' # comes back as False as well "
   ]
  },
  {
   "cell_type": "code",
   "execution_count": 34,
   "id": "7aab8759",
   "metadata": {},
   "outputs": [
    {
     "data": {
      "text/plain": [
       "True"
      ]
     },
     "execution_count": 34,
     "metadata": {},
     "output_type": "execute_result"
    }
   ],
   "source": [
    "5 >= -5 # comes back as True"
   ]
  },
  {
   "cell_type": "code",
   "execution_count": 36,
   "id": "6c302093",
   "metadata": {},
   "outputs": [
    {
     "data": {
      "text/plain": [
       "True"
      ]
     },
     "execution_count": 36,
     "metadata": {},
     "output_type": "execute_result"
    }
   ],
   "source": [
    "True or \"42\" # comes back as true always return what not false"
   ]
  },
  {
   "cell_type": "code",
   "execution_count": 37,
   "id": "148ae57b",
   "metadata": {},
   "outputs": [
    {
     "data": {
      "text/plain": [
       "1"
      ]
     },
     "execution_count": 37,
     "metadata": {},
     "output_type": "execute_result"
    }
   ],
   "source": [
    "6 % 5 #Divides left hand operand by right hand operand and returns remainder"
   ]
  },
  {
   "cell_type": "code",
   "execution_count": 40,
   "id": "5c46650a",
   "metadata": {},
   "outputs": [
    {
     "data": {
      "text/plain": [
       "False"
      ]
     },
     "execution_count": 40,
     "metadata": {},
     "output_type": "execute_result"
    }
   ],
   "source": [
    "5 < 4 and 1 == 1 # comes back as False, once side is false will come back as false "
   ]
  },
  {
   "cell_type": "code",
   "execution_count": 41,
   "id": "af5e4cc5",
   "metadata": {},
   "outputs": [
    {
     "data": {
      "text/plain": [
       "False"
      ]
     },
     "execution_count": 41,
     "metadata": {},
     "output_type": "execute_result"
    }
   ],
   "source": [
    "'codeup' == 'codeup' and 'codeup' == 'Codeup' # comes back as False cap matter"
   ]
  },
  {
   "cell_type": "code",
   "execution_count": 1,
   "id": "d9b2254d",
   "metadata": {},
   "outputs": [
    {
     "ename": "SyntaxError",
     "evalue": "invalid syntax (380345688.py, line 1)",
     "output_type": "error",
     "traceback": [
      "\u001b[0;36m  Cell \u001b[0;32mIn[1], line 1\u001b[0;36m\u001b[0m\n\u001b[0;31m    4 >= 0 and 1 !== '1' # if the double equal sign was not there then it would run as True but since they are there the code give an error\u001b[0m\n\u001b[0m                   ^\u001b[0m\n\u001b[0;31mSyntaxError\u001b[0m\u001b[0;31m:\u001b[0m invalid syntax\n"
     ]
    }
   ],
   "source": [
    "4 >= 0 and 1 !== '1' # if the double equal sign was not there then it would run as True but since they are there the code give an error"
   ]
  },
  {
   "cell_type": "code",
   "execution_count": 45,
   "id": "1317bcba",
   "metadata": {},
   "outputs": [
    {
     "data": {
      "text/plain": [
       "True"
      ]
     },
     "execution_count": 45,
     "metadata": {},
     "output_type": "execute_result"
    }
   ],
   "source": [
    "6 % 3 == 0 # comes out 2 "
   ]
  },
  {
   "cell_type": "code",
   "execution_count": 46,
   "id": "8cb8facd",
   "metadata": {},
   "outputs": [
    {
     "data": {
      "text/plain": [
       "True"
      ]
     },
     "execution_count": 46,
     "metadata": {},
     "output_type": "execute_result"
    }
   ],
   "source": [
    "5 % 2 != 0 # comes back as true cause it say not equal to "
   ]
  },
  {
   "cell_type": "code",
   "execution_count": 47,
   "id": "81069aff",
   "metadata": {},
   "outputs": [
    {
     "ename": "TypeError",
     "evalue": "can only concatenate list (not \"int\") to list",
     "output_type": "error",
     "traceback": [
      "\u001b[0;31m---------------------------------------------------------------------------\u001b[0m",
      "\u001b[0;31mTypeError\u001b[0m                                 Traceback (most recent call last)",
      "Cell \u001b[0;32mIn[47], line 1\u001b[0m\n\u001b[0;32m----> 1\u001b[0m [\u001b[38;5;241m1\u001b[39m] \u001b[38;5;241m+\u001b[39m \u001b[38;5;241m2\u001b[39m\n",
      "\u001b[0;31mTypeError\u001b[0m: can only concatenate list (not \"int\") to list"
     ]
    }
   ],
   "source": [
    "[1] + 2 # comes back as False has not int unless both are in a []list "
   ]
  },
  {
   "cell_type": "code",
   "execution_count": 48,
   "id": "004fb33c",
   "metadata": {},
   "outputs": [
    {
     "data": {
      "text/plain": [
       "[1, 2]"
      ]
     },
     "execution_count": 48,
     "metadata": {},
     "output_type": "execute_result"
    }
   ],
   "source": [
    "[1] + [2] # comes back as inclose [x] \n"
   ]
  },
  {
   "cell_type": "code",
   "execution_count": 50,
   "id": "5a3cde15",
   "metadata": {},
   "outputs": [
    {
     "data": {
      "text/plain": [
       "[1, 1]"
      ]
     },
     "execution_count": 50,
     "metadata": {},
     "output_type": "execute_result"
    }
   ],
   "source": [
    "[1] * 2 # come back as inclose [1, 1]"
   ]
  },
  {
   "cell_type": "code",
   "execution_count": 53,
   "id": "05ad26ad",
   "metadata": {},
   "outputs": [
    {
     "data": {
      "text/plain": [
       "True"
      ]
     },
     "execution_count": 53,
     "metadata": {},
     "output_type": "execute_result"
    }
   ],
   "source": [
    "[] + [] == [] # comes back as True"
   ]
  },
  {
   "cell_type": "code",
   "execution_count": 58,
   "id": "f6b4e104",
   "metadata": {},
   "outputs": [
    {
     "ename": "TypeError",
     "evalue": "unsupported operand type(s) for +: 'dict' and 'dict'",
     "output_type": "error",
     "traceback": [
      "\u001b[0;31m---------------------------------------------------------------------------\u001b[0m",
      "\u001b[0;31mTypeError\u001b[0m                                 Traceback (most recent call last)",
      "Cell \u001b[0;32mIn[58], line 1\u001b[0m\n\u001b[0;32m----> 1\u001b[0m {} \u001b[38;5;241m+\u001b[39m {}\n",
      "\u001b[0;31mTypeError\u001b[0m: unsupported operand type(s) for +: 'dict' and 'dict'"
     ]
    }
   ],
   "source": [
    "{} + {} # unsupported operand type(s) for +: 'dict' and 'dict'\n"
   ]
  },
  {
   "cell_type": "code",
   "execution_count": null,
   "id": "aafba630",
   "metadata": {},
   "outputs": [],
   "source": []
  },
  {
   "cell_type": "markdown",
   "id": "d610f07b",
   "metadata": {},
   "source": [
    "Describe the following scenarios. You will need to create and assign variables and use operators.\n",
    "\n",
    "4. You have rented some movies for your kids:\n",
    "The Little Mermaid for 3 days\n",
    "Brother Bear for 5 days\n",
    "Hercules for 1 day\n"
   ]
  },
  {
   "cell_type": "code",
   "execution_count": 101,
   "id": "2c5c4ca9",
   "metadata": {},
   "outputs": [
    {
     "data": {
      "text/plain": [
       "27"
      ]
     },
     "execution_count": 101,
     "metadata": {},
     "output_type": "execute_result"
    }
   ],
   "source": [
    "the_little_mermaid = 3\n",
    "brother_bear = 5\n",
    "hercules= 1\n",
    "\n",
    "(the_little_mermaid+brother_bear+hercules) * 3\n",
    "\n",
    "\n",
    "#(3 * 3) + (5 * 3) + (1* 3) # 27"
   ]
  },
  {
   "cell_type": "markdown",
   "id": "ef25eeab",
   "metadata": {},
   "source": [
    "5. Suppose you're working as a contractor for 3 companies: Google, Amazon and Facebook.\n",
    "\n",
    "They pay you the following hourly rates:\n",
    "\n",
    "Google: 400 dollars\n",
    "Amazon: 380 dollars\n",
    "Facebook: 350 dollars\n",
    "This week you worked: 10 hours for Facebook, 6 hours for Google, and 4 hours for Amazon.\n",
    "\n"
   ]
  },
  {
   "cell_type": "code",
   "execution_count": 102,
   "id": "c378b2e9",
   "metadata": {},
   "outputs": [
    {
     "data": {
      "text/plain": [
       "7420"
      ]
     },
     "execution_count": 102,
     "metadata": {},
     "output_type": "execute_result"
    }
   ],
   "source": [
    "google= 400\n",
    "amazon= 380\n",
    "facebook= 350\n",
    "\n",
    "google_pay=6\n",
    "amazon_pay=4\n",
    "facebook_pay=10\n",
    "\n",
    "(google* google_pay) + (amazon * amazon_pay)+ (facebook * facebook_pay)\n",
    "\n"
   ]
  },
  {
   "cell_type": "markdown",
   "id": "4bb4875a",
   "metadata": {},
   "source": [
    "6. A student can be enrolled in a class only if the class is not full and the class schedule does not conflict with her current schedule.\n"
   ]
  },
  {
   "cell_type": "code",
   "execution_count": 103,
   "id": "8bd3aff1",
   "metadata": {},
   "outputs": [],
   "source": [
    "is_full = False\n",
    "schedule_conflict = True"
   ]
  },
  {
   "cell_type": "code",
   "execution_count": null,
   "id": "7fa94afb",
   "metadata": {},
   "outputs": [],
   "source": [
    "can_enroll = not schedule_conflict and not is_full\n",
    "can_enroll"
   ]
  },
  {
   "cell_type": "code",
   "execution_count": 67,
   "id": "5f149370",
   "metadata": {},
   "outputs": [
    {
     "name": "stdout",
     "output_type": "stream",
     "text": [
      "the student can be enrolled in the class\n"
     ]
    }
   ],
   "source": [
    "class_is_not_full = True\n",
    "schedule_does_not_conflict = True\n",
    "\n",
    "if class_is_not_full and schedule_does_not_conflict:\n",
    "    print(\"the student can be enrolled in the class\")\n",
    "else :\n",
    "    print('the students cannot ne enrolled in the class')"
   ]
  },
  {
   "cell_type": "markdown",
   "id": "af2c6b56",
   "metadata": {},
   "source": [
    "A product offer can be applied only if a customer buys \n",
    "more than 2 items, and the offer has not expired. Premium members \n",
    "do not need to buy a specific amount of products."
   ]
  },
  {
   "cell_type": "code",
   "execution_count": 11,
   "id": "adcbb4d4",
   "metadata": {},
   "outputs": [],
   "source": [
    "buy_more_than_2 = False\n",
    "\n",
    "offer_expired = False\n",
    "\n",
    "is_premium = True\n",
    "\n"
   ]
  },
  {
   "cell_type": "code",
   "execution_count": 12,
   "id": "d845f568",
   "metadata": {},
   "outputs": [
    {
     "data": {
      "text/plain": [
       "True"
      ]
     },
     "execution_count": 12,
     "metadata": {},
     "output_type": "execute_result"
    }
   ],
   "source": [
    "product_offer = (buy_more_than_2 or is_premium) and not offer_expired\n",
    "product_offer\n"
   ]
  },
  {
   "cell_type": "code",
   "execution_count": 128,
   "id": "82a764f3",
   "metadata": {},
   "outputs": [
    {
     "name": "stdout",
     "output_type": "stream",
     "text": [
      "coupon apply\n"
     ]
    }
   ],
   "source": [
    "has_more_than_2_item = True\n",
    "offer_has_not_expired = True\n",
    "is_premium = False \n",
    "\n",
    "if (has_more_than_2_item or is_premium) and offer_has_not_expired:\n",
    "    print('coupon apply')\n",
    "else :\n",
    "    print('coupon not apply')\n",
    "    \n"
   ]
  },
  {
   "cell_type": "code",
   "execution_count": 131,
   "id": "4a415bd0",
   "metadata": {},
   "outputs": [],
   "source": [
    "username = 'codeup'\n",
    "password = 'notastrongpassword'"
   ]
  },
  {
   "cell_type": "code",
   "execution_count": 99,
   "id": "04bdd883",
   "metadata": {},
   "outputs": [
    {
     "name": "stdout",
     "output_type": "stream",
     "text": [
      "all good\n"
     ]
    }
   ],
   "source": [
    "\n",
    "\n",
    "is_valid_password_length =len(password) >= 5 \n",
    "\n",
    "is_valid_username_length =len(username) <= 20\n",
    "\n",
    "password_not_same_as_username = password != username\n",
    "\n",
    "if is_valid_password_length and is_valid_username_length and password_not_same_as_username:\n",
    "    print('all good')\n",
    "else:\n",
    "    print('not good')\n",
    "\n",
    "\n"
   ]
  },
  {
   "cell_type": "code",
   "execution_count": 132,
   "id": "c1909110",
   "metadata": {},
   "outputs": [],
   "source": []
  },
  {
   "cell_type": "code",
   "execution_count": null,
   "id": "d8a07b62",
   "metadata": {},
   "outputs": [],
   "source": []
  },
  {
   "cell_type": "code",
   "execution_count": null,
   "id": "f32e2323",
   "metadata": {},
   "outputs": [],
   "source": []
  },
  {
   "cell_type": "code",
   "execution_count": null,
   "id": "f0acf24a",
   "metadata": {},
   "outputs": [],
   "source": []
  },
  {
   "cell_type": "code",
   "execution_count": null,
   "id": "0863b535",
   "metadata": {},
   "outputs": [],
   "source": []
  },
  {
   "cell_type": "code",
   "execution_count": null,
   "id": "d8d87b65",
   "metadata": {},
   "outputs": [],
   "source": []
  },
  {
   "cell_type": "code",
   "execution_count": null,
   "id": "a9f4a707",
   "metadata": {},
   "outputs": [],
   "source": []
  }
 ],
 "metadata": {
  "kernelspec": {
   "display_name": "Python 3 (ipykernel)",
   "language": "python",
   "name": "python3"
  },
  "language_info": {
   "codemirror_mode": {
    "name": "ipython",
    "version": 3
   },
   "file_extension": ".py",
   "mimetype": "text/x-python",
   "name": "python",
   "nbconvert_exporter": "python",
   "pygments_lexer": "ipython3",
   "version": "3.11.5"
  }
 },
 "nbformat": 4,
 "nbformat_minor": 5
}
