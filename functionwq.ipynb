{
 "cells": [
  {
   "cell_type": "markdown",
   "id": "57713c26",
   "metadata": {},
   "source": [
    "1Define a function named is_two. It should accept one input and return True if the passed input is either the number or the string 2, False otherwise."
   ]
  },
  {
   "cell_type": "code",
   "execution_count": 27,
   "id": "883cf672",
   "metadata": {},
   "outputs": [
    {
     "data": {
      "text/plain": [
       "625"
      ]
     },
     "execution_count": 27,
     "metadata": {},
     "output_type": "execute_result"
    }
   ],
   "source": [
    "#def it_two(num):\n",
    " #   x = num * 5\n",
    "  #  return x\n",
    "#it_two(125)"
   ]
  },
  {
   "cell_type": "code",
   "execution_count": 14,
   "id": "8e6e1b84",
   "metadata": {},
   "outputs": [
    {
     "data": {
      "text/plain": [
       "False"
      ]
     },
     "execution_count": 14,
     "metadata": {},
     "output_type": "execute_result"
    }
   ],
   "source": [
    "def it_two(num):\n",
    "    #true if the input and false if not\n",
    "    if num in (2, '2', 2.0):\n",
    "        return True\n",
    "    return False\n",
    "it_two(3)"
   ]
  },
  {
   "cell_type": "code",
   "execution_count": null,
   "id": "cc8704f0",
   "metadata": {},
   "outputs": [],
   "source": []
  },
  {
   "cell_type": "markdown",
   "id": "56ad417b",
   "metadata": {},
   "source": [
    "2.Define a function named is_vowel. It should return True if the passed string is a vowel, False otherwise."
   ]
  },
  {
   "cell_type": "code",
   "execution_count": null,
   "id": "1ff2c3dc",
   "metadata": {},
   "outputs": [],
   "source": [
    "# better way is to use list(aeiou) would have easy spilt and would have not type it out "
   ]
  },
  {
   "cell_type": "code",
   "execution_count": null,
   "id": "5d157ec9",
   "metadata": {},
   "outputs": [],
   "source": [
    "#also list always has [] not () "
   ]
  },
  {
   "cell_type": "code",
   "execution_count": 17,
   "id": "cd791dd9",
   "metadata": {},
   "outputs": [
    {
     "data": {
      "text/plain": [
       "False"
      ]
     },
     "execution_count": 17,
     "metadata": {},
     "output_type": "execute_result"
    }
   ],
   "source": [
    "def is_vowel(w):\n",
    "    vowels = [\"a\", \"e\", \"i\", \"o\", \"u\"]\n",
    "    for vowel in vowels:\n",
    "        if w.lower() == vowel:\n",
    "            return True\n",
    "    return False\n",
    "is_vowel('h')"
   ]
  },
  {
   "cell_type": "code",
   "execution_count": null,
   "id": "89c3fe3a",
   "metadata": {},
   "outputs": [],
   "source": []
  },
  {
   "cell_type": "markdown",
   "id": "f8b91941",
   "metadata": {},
   "source": [
    "3.Define a function named is_consonant. It should return True if the passed string is a consonant, False otherwise. Use your is_vowel function to accomplish this.\n"
   ]
  },
  {
   "cell_type": "code",
   "execution_count": null,
   "id": "609aad39",
   "metadata": {},
   "outputs": [],
   "source": [
    "# look at w3school has good resource for stg"
   ]
  },
  {
   "cell_type": "code",
   "execution_count": 20,
   "id": "5f38edc6",
   "metadata": {},
   "outputs": [
    {
     "data": {
      "text/plain": [
       "True"
      ]
     },
     "execution_count": 20,
     "metadata": {},
     "output_type": "execute_result"
    }
   ],
   "source": [
    "def is_consonant(w): # looking for anythong that not a vowel\n",
    "    vowels = [\"a\", \"e\", \"i\", \"o\", \"u\"]\n",
    "    for vowel in vowels:\n",
    "        if w.lower() == vowel:\n",
    "            return False\n",
    "    return True\n",
    "is_consonant('g') #return true"
   ]
  },
  {
   "cell_type": "code",
   "execution_count": null,
   "id": "a5dda9ae",
   "metadata": {},
   "outputs": [],
   "source": []
  },
  {
   "cell_type": "code",
   "execution_count": null,
   "id": "2f82adc9",
   "metadata": {},
   "outputs": [],
   "source": []
  },
  {
   "cell_type": "markdown",
   "id": "7c7b656f",
   "metadata": {},
   "source": [
    "4.Define a function that accepts a string that is a word. The function should capitalize the first letter of the word if the word starts with a consonant."
   ]
  },
  {
   "cell_type": "code",
   "execution_count": null,
   "id": "a2bf2b99",
   "metadata": {},
   "outputs": [],
   "source": []
  },
  {
   "cell_type": "code",
   "execution_count": 24,
   "id": "23289dcf",
   "metadata": {},
   "outputs": [
    {
     "data": {
      "text/plain": [
       "'Yes'"
      ]
     },
     "execution_count": 24,
     "metadata": {},
     "output_type": "execute_result"
    }
   ],
   "source": [
    "def is_word(word):\n",
    "    # Define a set of consonants\n",
    "    consonants = {'b', 'c', 'd', 'f', 'g', 'h', 'j', 'k', 'l', 'm', 'n', 'p', 'q', 'r', 's', 't', 'v', 'w', 'x', 'y', 'z'}\n",
    "\n",
    "    # Check if the word is not empty and starts with a consonant\n",
    "    if word and word[0].lower() in consonants:\n",
    "        # Capitalize the first letter of the word\n",
    "        word = word[0].upper() + word[1:]\n",
    "\n",
    "    return word\n",
    "is_word('yes')"
   ]
  },
  {
   "cell_type": "code",
   "execution_count": null,
   "id": "1b44457e",
   "metadata": {},
   "outputs": [],
   "source": []
  },
  {
   "cell_type": "markdown",
   "id": "747eaabf",
   "metadata": {},
   "source": [
    "5.Define a function named calculate_tip. It should accept a tip percentage (a number between 0 and 1) and the bill total, and return the amount to tip."
   ]
  },
  {
   "cell_type": "code",
   "execution_count": null,
   "id": "38c394d0",
   "metadata": {},
   "outputs": [],
   "source": [
    "#def a function call calculate tip\n",
    "#need to accept tip percentage 0-1 and total bill and\n",
    "#return the amount to tip \n",
    "# could have done def cal_tip(bill, tip_per=.2)  "
   ]
  },
  {
   "cell_type": "code",
   "execution_count": 173,
   "id": "45416f9e",
   "metadata": {},
   "outputs": [
    {
     "name": "stdout",
     "output_type": "stream",
     "text": [
      "Enter tip percentage(%:)14\n",
      "Enter bill amount($)83\n",
      "your tip should be $11.62\n",
      "your final bill would be $94.62\n"
     ]
    }
   ],
   "source": [
    "def cal_tip():\n",
    "    tip_percrntage = float(input('Enter tip percentage(%:)'))\n",
    "    bill_amount = float(input('Enter bill amount($)'))\n",
    "    tip_amount = tip_percrntage * bill_amount / 100\n",
    "    print(f'your tip should be $' + str(tip_amount))\n",
    "    print(f'your final bill would be $' + str(tip_amount + bill_amount))\n",
    "    \n",
    "cal_tip()"
   ]
  },
  {
   "cell_type": "markdown",
   "id": "01debf9f",
   "metadata": {},
   "source": [
    "6.Define a function named apply_discount. It should accept a original price, and a discount percentage, and return the price after the discount is applied."
   ]
  },
  {
   "cell_type": "code",
   "execution_count": 177,
   "id": "93cd9354",
   "metadata": {},
   "outputs": [
    {
     "name": "stdout",
     "output_type": "stream",
     "text": [
      "Enter discount (%:)14\n",
      "Enter item cost($)245\n",
      "your discount should be $34.3\n",
      " your final total is $210.7\n"
     ]
    }
   ],
   "source": [
    "def apply_discount():\n",
    "    dicount = float(input('Enter discount (%:)'))\n",
    "    cost_of_item = float(input('Enter item cost($)'))\n",
    "    discount_amount = dicount * cost_of_item / 100\n",
    "    print(f'your discount should be $' + str(discount_amount))\n",
    "    print(f' your final total is $' + str(cost_of_item - discount_amount))\n",
    "    \n",
    "    \n",
    "\n",
    "apply_discount()"
   ]
  },
  {
   "cell_type": "code",
   "execution_count": null,
   "id": "e7eaa50d",
   "metadata": {},
   "outputs": [],
   "source": []
  },
  {
   "cell_type": "markdown",
   "id": "c3931ebf",
   "metadata": {},
   "source": [
    "7.Define a function named handle_commas. It should accept a string that is a number that contains commas in it as input, and return a number as output."
   ]
  },
  {
   "cell_type": "code",
   "execution_count": 39,
   "id": "5bd2d6a9",
   "metadata": {},
   "outputs": [],
   "source": [
    "def handle_commas(fakenum):\n",
    "    \n",
    "    \n",
    "    if type(fakenum) == str:\n",
    "        stripfakenum = fakenum.replace(\",\", \"\")\n",
    "        if stripfakenum.isdigit():\n",
    "            return int(stripefakenum)\n",
    "        else:\n",
    "            return False\n",
    "    else:\n",
    "            False"
   ]
  },
  {
   "cell_type": "code",
   "execution_count": 40,
   "id": "0ba02cbd",
   "metadata": {},
   "outputs": [
    {
     "ename": "NameError",
     "evalue": "name 'stripefakenum' is not defined",
     "output_type": "error",
     "traceback": [
      "\u001b[0;31m---------------------------------------------------------------------------\u001b[0m",
      "\u001b[0;31mNameError\u001b[0m                                 Traceback (most recent call last)",
      "Cell \u001b[0;32mIn[40], line 1\u001b[0m\n\u001b[0;32m----> 1\u001b[0m handle_commas(\u001b[38;5;124m'\u001b[39m\u001b[38;5;124m1,000,000\u001b[39m\u001b[38;5;124m'\u001b[39m)\n",
      "Cell \u001b[0;32mIn[39], line 7\u001b[0m, in \u001b[0;36mhandle_commas\u001b[0;34m(fakenum)\u001b[0m\n\u001b[1;32m      5\u001b[0m stripfakenum \u001b[38;5;241m=\u001b[39m fakenum\u001b[38;5;241m.\u001b[39mreplace(\u001b[38;5;124m\"\u001b[39m\u001b[38;5;124m,\u001b[39m\u001b[38;5;124m\"\u001b[39m, \u001b[38;5;124m\"\u001b[39m\u001b[38;5;124m\"\u001b[39m)\n\u001b[1;32m      6\u001b[0m \u001b[38;5;28;01mif\u001b[39;00m stripfakenum\u001b[38;5;241m.\u001b[39misdigit():\n\u001b[0;32m----> 7\u001b[0m     \u001b[38;5;28;01mreturn\u001b[39;00m \u001b[38;5;28mint\u001b[39m(stripefakenum)\n\u001b[1;32m      8\u001b[0m \u001b[38;5;28;01melse\u001b[39;00m:\n\u001b[1;32m      9\u001b[0m     \u001b[38;5;28;01mreturn\u001b[39;00m \u001b[38;5;28;01mFalse\u001b[39;00m\n",
      "\u001b[0;31mNameError\u001b[0m: name 'stripefakenum' is not defined"
     ]
    }
   ],
   "source": [
    "handle_commas('1,000,000')"
   ]
  },
  {
   "cell_type": "markdown",
   "id": "8b833f8c",
   "metadata": {},
   "source": [
    "8.Define a function named get_letter_grade. It should accept a number and return the letter grade associated with that number (A-F)."
   ]
  },
  {
   "cell_type": "code",
   "execution_count": null,
   "id": "acc0ed71",
   "metadata": {},
   "outputs": [],
   "source": [
    "def get_letter_grade(soething):\n",
    "    \n",
    "    grade = int(input('Enter a grade integer: '))\n",
    "\n",
    "    if grade >= 88:\n",
    "        print('A')\n",
    "    elif grade >= 80:\n",
    "        print('B')\n",
    "    elif grade >= 67:\n",
    "        print('C')\n",
    "    elif grade >= 60:\n",
    "        print('D')\n",
    "    else:\n",
    "        print('F')\n",
    "        \n",
    "     "
   ]
  },
  {
   "cell_type": "code",
   "execution_count": null,
   "id": "dc90ce67",
   "metadata": {},
   "outputs": [],
   "source": []
  },
  {
   "cell_type": "markdown",
   "id": "1a0fc708",
   "metadata": {},
   "source": [
    "9.Define a function named remove_vowels that accepts a string and returns a string with all the vowels removed."
   ]
  },
  {
   "cell_type": "code",
   "execution_count": 50,
   "id": "1207f759",
   "metadata": {},
   "outputs": [
    {
     "data": {
      "text/plain": [
       "'mnd'"
      ]
     },
     "execution_count": 50,
     "metadata": {},
     "output_type": "execute_result"
    }
   ],
   "source": [
    "def remove_vowels(x):\n",
    "    letters = list(x)\n",
    "    for letter in letters:\n",
    "        if is_vowel(letter):\n",
    "            letters.remove(letter)\n",
    "    return ''.join(letters)\n",
    "\n",
    "remove_vowels('amanda')"
   ]
  },
  {
   "cell_type": "code",
   "execution_count": null,
   "id": "bf328ef9",
   "metadata": {},
   "outputs": [],
   "source": []
  },
  {
   "cell_type": "markdown",
   "id": "b7d39f4c",
   "metadata": {},
   "source": [
    "10.Define a function named normalize_name. It should accept a string and return a valid python identifier, that is:\n",
    "\n",
    "anything that is not a valid python identifier should be removed\n",
    "leading and trailing whitespace should be removed\n",
    "everything should be lowercase\n",
    "spaces should be replaced with underscores\n",
    "for example:\n",
    "    Name will become name\n",
    "    First Name will become first_name\n",
    "    % Completed will become completed\n"
   ]
  },
  {
   "cell_type": "code",
   "execution_count": null,
   "id": "01efab94",
   "metadata": {},
   "outputs": [],
   "source": [
    "def normalize_name()"
   ]
  },
  {
   "cell_type": "code",
   "execution_count": null,
   "id": "530c2769",
   "metadata": {},
   "outputs": [],
   "source": []
  },
  {
   "cell_type": "code",
   "execution_count": null,
   "id": "92f34e22",
   "metadata": {},
   "outputs": [],
   "source": []
  },
  {
   "cell_type": "code",
   "execution_count": null,
   "id": "dd7e5788",
   "metadata": {},
   "outputs": [],
   "source": [
    "11.Write a function named cumulative_sum that accepts a list of numbers and returns a list \n",
    "that is the cumulative sum of the numbers in the list.\n",
    "\n",
    "\n",
    "cumulative_sum([1, 1, 1]) returns [1, 2, 3]\n",
    "cumulative_sum([1, 2, 3, 4]) returns [1, 3, 6, 10]\n"
   ]
  },
  {
   "cell_type": "code",
   "execution_count": null,
   "id": "23f8987f",
   "metadata": {},
   "outputs": [],
   "source": []
  },
  {
   "cell_type": "code",
   "execution_count": null,
   "id": "56b05772",
   "metadata": {},
   "outputs": [],
   "source": [
    "def cumulative_sum(oldlist):\n",
    "    \n",
    "    newlist=[]\n",
    "    \n",
    "    c_sum = 0\n",
    "    \n",
    "    for num in oldlist:\n",
    "        c_sum += num\n",
    "        \n",
    "        newlist.append(sum)\n",
    "        "
   ]
  },
  {
   "cell_type": "code",
   "execution_count": null,
   "id": "404d6c93",
   "metadata": {},
   "outputs": [],
   "source": []
  }
 ],
 "metadata": {
  "kernelspec": {
   "display_name": "Python 3 (ipykernel)",
   "language": "python",
   "name": "python3"
  },
  "language_info": {
   "codemirror_mode": {
    "name": "ipython",
    "version": 3
   },
   "file_extension": ".py",
   "mimetype": "text/x-python",
   "name": "python",
   "nbconvert_exporter": "python",
   "pygments_lexer": "ipython3",
   "version": "3.11.5"
  }
 },
 "nbformat": 4,
 "nbformat_minor": 5
}
