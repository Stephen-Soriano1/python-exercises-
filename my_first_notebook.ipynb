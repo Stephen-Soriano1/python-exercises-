{
 "cells": [
  {
   "cell_type": "code",
   "execution_count": 2,
   "id": "8a3761f6",
   "metadata": {},
   "outputs": [
    {
     "name": "stdout",
     "output_type": "stream",
     "text": [
      "this is cool\n"
     ]
    }
   ],
   "source": [
    "print ( 'this is cool')"
   ]
  },
  {
   "cell_type": "code",
   "execution_count": 3,
   "id": "707a3108",
   "metadata": {
    "scrolled": true
   },
   "outputs": [
    {
     "name": "stdout",
     "output_type": "stream",
     "text": [
      "nice\n"
     ]
    }
   ],
   "source": [
    "print('nice')"
   ]
  },
  {
   "cell_type": "code",
   "execution_count": 5,
   "id": "5b369cc5",
   "metadata": {},
   "outputs": [
    {
     "data": {
      "text/plain": [
       "10"
      ]
     },
     "execution_count": 5,
     "metadata": {},
     "output_type": "execute_result"
    }
   ],
   "source": [
    "x = 1\n",
    "(x +9)"
   ]
  },
  {
   "cell_type": "code",
   "execution_count": 6,
   "id": "ef107697",
   "metadata": {},
   "outputs": [
    {
     "name": "stdout",
     "output_type": "stream",
     "text": [
      "hello world\n"
     ]
    }
   ],
   "source": [
    "print ('hello world')"
   ]
  },
  {
   "cell_type": "code",
   "execution_count": 26,
   "id": "e824bb3d",
   "metadata": {},
   "outputs": [],
   "source": [
    "notes1 =('hitting shift return run it and make a new cell') "
   ]
  },
  {
   "cell_type": "code",
   "execution_count": null,
   "id": "4b4c913c",
   "metadata": {},
   "outputs": [],
   "source": []
  },
  {
   "cell_type": "code",
   "execution_count": 24,
   "id": "c089fc28",
   "metadata": {},
   "outputs": [],
   "source": [
    "notes2 = ('same rule with x,c,s as all other')"
   ]
  },
  {
   "cell_type": "code",
   "execution_count": 25,
   "id": "d0f57053",
   "metadata": {},
   "outputs": [
    {
     "name": "stdout",
     "output_type": "stream",
     "text": [
      "same rule with x,c,s as all other\n"
     ]
    }
   ],
   "source": [
    "print (notes2)"
   ]
  },
  {
   "cell_type": "code",
   "execution_count": 14,
   "id": "6a44fdc5",
   "metadata": {},
   "outputs": [],
   "source": [
    "notes = ('z undoes the cell and if i hit dd two time it well delete the cell')"
   ]
  },
  {
   "cell_type": "code",
   "execution_count": 16,
   "id": "8c839b31",
   "metadata": {},
   "outputs": [
    {
     "name": "stdout",
     "output_type": "stream",
     "text": [
      "z undoes the cell and if i hit dd two time it well delete the cell\n"
     ]
    }
   ],
   "source": [
    "print (notes)"
   ]
  },
  {
   "cell_type": "code",
   "execution_count": 27,
   "id": "6fe2c2ae",
   "metadata": {},
   "outputs": [
    {
     "name": "stdout",
     "output_type": "stream",
     "text": [
      "z undoes the cell and if i hit dd two time it well delete the cell hitting shift return run it and make a new cell same rule with x,c,s as all other\n"
     ]
    }
   ],
   "source": [
    "print (notes,notes1,notes2)"
   ]
  }
 ],
 "metadata": {
  "kernelspec": {
   "display_name": "Python 3 (ipykernel)",
   "language": "python",
   "name": "python3"
  },
  "language_info": {
   "codemirror_mode": {
    "name": "ipython",
    "version": 3
   },
   "file_extension": ".py",
   "mimetype": "text/x-python",
   "name": "python",
   "nbconvert_exporter": "python",
   "pygments_lexer": "ipython3",
   "version": "3.11.5"
  }
 },
 "nbformat": 4,
 "nbformat_minor": 5
}
